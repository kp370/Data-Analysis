{
  "nbformat": 4,
  "nbformat_minor": 0,
  "metadata": {
    "colab": {
      "provenance": []
    },
    "kernelspec": {
      "name": "python3",
      "display_name": "Python 3"
    },
    "language_info": {
      "name": "python"
    }
  },
  "cells": [
    {
      "cell_type": "code",
      "execution_count": null,
      "metadata": {
        "id": "6E30O-UDLPbM"
      },
      "outputs": [],
      "source": [
        "# Import required libraries\n",
        "import numpy as np\n",
        "import pandas as pd\n",
        "import matplotlib.pyplot as plt\n",
        "from sklearn.model_selection import train_test_split\n",
        "from sklearn.preprocessing import LabelEncoder, OneHotEncoder\n",
        "from sklearn.linear_model import LinearRegression\n",
        "import statsmodels.api as sm\n",
        "from google.colab import files\n",
        "import io"
      ]
    },
    {
      "cell_type": "code",
      "source": [
        "# Upload the CSV file\n",
        "print(\" Please upload your file:\")\n",
        "uploaded = files.upload()\n",
        "filename = list(uploaded.keys())[0]\n",
        "print(f\" Loading dataset: {filename}\")\n",
        "datasets = pd.read_csv(io.BytesIO(uploaded[filename]))\n",
        "print(f\"Shape: {datasets.shape}\")\n",
        "print(\"First 5 rows:\")\n",
        "print(datasets.head())"
      ],
      "metadata": {
        "colab": {
          "base_uri": "https://localhost:8080/",
          "height": 252
        },
        "id": "23FisK-dL1Zx",
        "outputId": "608eb6db-ece3-452b-90d8-0251aa2d1cb5"
      },
      "execution_count": null,
      "outputs": [
        {
          "output_type": "stream",
          "name": "stdout",
          "text": [
            " Please upload your file:\n"
          ]
        },
        {
          "output_type": "display_data",
          "data": {
            "text/plain": [
              "<IPython.core.display.HTML object>"
            ],
            "text/html": [
              "\n",
              "     <input type=\"file\" id=\"files-c6c4a507-4a53-4d47-8067-670596ce48fa\" name=\"files[]\" multiple disabled\n",
              "        style=\"border:none\" />\n",
              "     <output id=\"result-c6c4a507-4a53-4d47-8067-670596ce48fa\">\n",
              "      Upload widget is only available when the cell has been executed in the\n",
              "      current browser session. Please rerun this cell to enable.\n",
              "      </output>\n",
              "      <script>// Copyright 2017 Google LLC\n",
              "//\n",
              "// Licensed under the Apache License, Version 2.0 (the \"License\");\n",
              "// you may not use this file except in compliance with the License.\n",
              "// You may obtain a copy of the License at\n",
              "//\n",
              "//      http://www.apache.org/licenses/LICENSE-2.0\n",
              "//\n",
              "// Unless required by applicable law or agreed to in writing, software\n",
              "// distributed under the License is distributed on an \"AS IS\" BASIS,\n",
              "// WITHOUT WARRANTIES OR CONDITIONS OF ANY KIND, either express or implied.\n",
              "// See the License for the specific language governing permissions and\n",
              "// limitations under the License.\n",
              "\n",
              "/**\n",
              " * @fileoverview Helpers for google.colab Python module.\n",
              " */\n",
              "(function(scope) {\n",
              "function span(text, styleAttributes = {}) {\n",
              "  const element = document.createElement('span');\n",
              "  element.textContent = text;\n",
              "  for (const key of Object.keys(styleAttributes)) {\n",
              "    element.style[key] = styleAttributes[key];\n",
              "  }\n",
              "  return element;\n",
              "}\n",
              "\n",
              "// Max number of bytes which will be uploaded at a time.\n",
              "const MAX_PAYLOAD_SIZE = 100 * 1024;\n",
              "\n",
              "function _uploadFiles(inputId, outputId) {\n",
              "  const steps = uploadFilesStep(inputId, outputId);\n",
              "  const outputElement = document.getElementById(outputId);\n",
              "  // Cache steps on the outputElement to make it available for the next call\n",
              "  // to uploadFilesContinue from Python.\n",
              "  outputElement.steps = steps;\n",
              "\n",
              "  return _uploadFilesContinue(outputId);\n",
              "}\n",
              "\n",
              "// This is roughly an async generator (not supported in the browser yet),\n",
              "// where there are multiple asynchronous steps and the Python side is going\n",
              "// to poll for completion of each step.\n",
              "// This uses a Promise to block the python side on completion of each step,\n",
              "// then passes the result of the previous step as the input to the next step.\n",
              "function _uploadFilesContinue(outputId) {\n",
              "  const outputElement = document.getElementById(outputId);\n",
              "  const steps = outputElement.steps;\n",
              "\n",
              "  const next = steps.next(outputElement.lastPromiseValue);\n",
              "  return Promise.resolve(next.value.promise).then((value) => {\n",
              "    // Cache the last promise value to make it available to the next\n",
              "    // step of the generator.\n",
              "    outputElement.lastPromiseValue = value;\n",
              "    return next.value.response;\n",
              "  });\n",
              "}\n",
              "\n",
              "/**\n",
              " * Generator function which is called between each async step of the upload\n",
              " * process.\n",
              " * @param {string} inputId Element ID of the input file picker element.\n",
              " * @param {string} outputId Element ID of the output display.\n",
              " * @return {!Iterable<!Object>} Iterable of next steps.\n",
              " */\n",
              "function* uploadFilesStep(inputId, outputId) {\n",
              "  const inputElement = document.getElementById(inputId);\n",
              "  inputElement.disabled = false;\n",
              "\n",
              "  const outputElement = document.getElementById(outputId);\n",
              "  outputElement.innerHTML = '';\n",
              "\n",
              "  const pickedPromise = new Promise((resolve) => {\n",
              "    inputElement.addEventListener('change', (e) => {\n",
              "      resolve(e.target.files);\n",
              "    });\n",
              "  });\n",
              "\n",
              "  const cancel = document.createElement('button');\n",
              "  inputElement.parentElement.appendChild(cancel);\n",
              "  cancel.textContent = 'Cancel upload';\n",
              "  const cancelPromise = new Promise((resolve) => {\n",
              "    cancel.onclick = () => {\n",
              "      resolve(null);\n",
              "    };\n",
              "  });\n",
              "\n",
              "  // Wait for the user to pick the files.\n",
              "  const files = yield {\n",
              "    promise: Promise.race([pickedPromise, cancelPromise]),\n",
              "    response: {\n",
              "      action: 'starting',\n",
              "    }\n",
              "  };\n",
              "\n",
              "  cancel.remove();\n",
              "\n",
              "  // Disable the input element since further picks are not allowed.\n",
              "  inputElement.disabled = true;\n",
              "\n",
              "  if (!files) {\n",
              "    return {\n",
              "      response: {\n",
              "        action: 'complete',\n",
              "      }\n",
              "    };\n",
              "  }\n",
              "\n",
              "  for (const file of files) {\n",
              "    const li = document.createElement('li');\n",
              "    li.append(span(file.name, {fontWeight: 'bold'}));\n",
              "    li.append(span(\n",
              "        `(${file.type || 'n/a'}) - ${file.size} bytes, ` +\n",
              "        `last modified: ${\n",
              "            file.lastModifiedDate ? file.lastModifiedDate.toLocaleDateString() :\n",
              "                                    'n/a'} - `));\n",
              "    const percent = span('0% done');\n",
              "    li.appendChild(percent);\n",
              "\n",
              "    outputElement.appendChild(li);\n",
              "\n",
              "    const fileDataPromise = new Promise((resolve) => {\n",
              "      const reader = new FileReader();\n",
              "      reader.onload = (e) => {\n",
              "        resolve(e.target.result);\n",
              "      };\n",
              "      reader.readAsArrayBuffer(file);\n",
              "    });\n",
              "    // Wait for the data to be ready.\n",
              "    let fileData = yield {\n",
              "      promise: fileDataPromise,\n",
              "      response: {\n",
              "        action: 'continue',\n",
              "      }\n",
              "    };\n",
              "\n",
              "    // Use a chunked sending to avoid message size limits. See b/62115660.\n",
              "    let position = 0;\n",
              "    do {\n",
              "      const length = Math.min(fileData.byteLength - position, MAX_PAYLOAD_SIZE);\n",
              "      const chunk = new Uint8Array(fileData, position, length);\n",
              "      position += length;\n",
              "\n",
              "      const base64 = btoa(String.fromCharCode.apply(null, chunk));\n",
              "      yield {\n",
              "        response: {\n",
              "          action: 'append',\n",
              "          file: file.name,\n",
              "          data: base64,\n",
              "        },\n",
              "      };\n",
              "\n",
              "      let percentDone = fileData.byteLength === 0 ?\n",
              "          100 :\n",
              "          Math.round((position / fileData.byteLength) * 100);\n",
              "      percent.textContent = `${percentDone}% done`;\n",
              "\n",
              "    } while (position < fileData.byteLength);\n",
              "  }\n",
              "\n",
              "  // All done.\n",
              "  yield {\n",
              "    response: {\n",
              "      action: 'complete',\n",
              "    }\n",
              "  };\n",
              "}\n",
              "\n",
              "scope.google = scope.google || {};\n",
              "scope.google.colab = scope.google.colab || {};\n",
              "scope.google.colab._files = {\n",
              "  _uploadFiles,\n",
              "  _uploadFilesContinue,\n",
              "};\n",
              "})(self);\n",
              "</script> "
            ]
          },
          "metadata": {}
        },
        {
          "output_type": "stream",
          "name": "stdout",
          "text": [
            "Saving 50_Startups.csv to 50_Startups.csv\n",
            " Loading dataset: 50_Startups.csv\n",
            "Shape: (50, 5)\n",
            "First 5 rows:\n",
            "   R&D Spend  Administration  Marketing Spend       State     Profit\n",
            "0  165349.20       136897.80        471784.10    New York  192261.83\n",
            "1  162597.70       151377.59        443898.53  California  191792.06\n",
            "2  153441.51       101145.55        407934.54     Florida  191050.39\n",
            "3  144372.41       118671.85        383199.62    New York  182901.99\n",
            "4  142107.34        91391.77        366168.42     Florida  166187.94\n"
          ]
        }
      ]
    },
    {
      "cell_type": "code",
      "source": [
        "# Prepare the features and target\n",
        "print(\" Preparing features and target variable...\")\n",
        "X = datasets.iloc[:, :-1].values\n",
        "Y = datasets.iloc[:, -1].values  # Last column is the target\n",
        "print(f\"Features shape: {X.shape}\")\n",
        "print(f\"Target shape: {Y.shape}\")"
      ],
      "metadata": {
        "colab": {
          "base_uri": "https://localhost:8080/"
        },
        "id": "2NY2REywME-E",
        "outputId": "c5f3d1f4-fc58-477b-f59c-5e719dcf2dad"
      },
      "execution_count": null,
      "outputs": [
        {
          "output_type": "stream",
          "name": "stdout",
          "text": [
            " Preparing features and target variable...\n",
            "Features shape: (50, 4)\n",
            "Target shape: (50,)\n"
          ]
        }
      ]
    },
    {
      "cell_type": "code",
      "source": [
        "# Encode the categorical data (State column)\n",
        "print(\"Encoding categorical column (State)...\")\n",
        "# Select the 'State' column from the original DataFrame\n",
        "X_state = datasets.iloc[:, 3].values\n",
        "\n",
        "# Apply Label Encoding\n",
        "labelencoder_X = LabelEncoder()\n",
        "X_state_encoded = labelencoder_X.fit_transform(X_state.ravel())\n",
        "\n",
        "# Apply One-Hot Encoding\n",
        "onehotencoder = OneHotEncoder(sparse_output=False)\n",
        "X_encoded = onehotencoder.fit_transform(X_state_encoded.reshape(-1, 1))\n",
        "\n",
        "# Prepare the numerical features\n",
        "X_numerical = datasets.iloc[:, :3].values\n",
        "\n",
        "# Concatenate the encoded and numerical features\n",
        "X = np.concatenate((X_encoded, X_numerical), axis=1)\n",
        "print(\"Categorical feature encoded and merged. New features shape:\", X.shape)\n",
        "\n",
        "# Step 5: Avoid the Dummy Variable Trap\n",
        "# Remove first dummy variable column\n",
        "X = X[:, 1:]\n",
        "print(\"Dummy variable trap avoided. Final features shape:\", X.shape)"
      ],
      "metadata": {
        "colab": {
          "base_uri": "https://localhost:8080/"
        },
        "id": "LQZjXb8qMMqR",
        "outputId": "ab001259-6444-436b-f92b-665869feacc3"
      },
      "execution_count": null,
      "outputs": [
        {
          "output_type": "stream",
          "name": "stdout",
          "text": [
            "Encoding categorical column (State)...\n",
            "Categorical feature encoded and merged. New features shape: (50, 6)\n",
            "Dummy variable trap avoided. Final features shape: (50, 5)\n"
          ]
        }
      ]
    },
    {
      "cell_type": "code",
      "source": [
        "# Avoid the Dummy Variable Trap\n",
        "# Remove first dummy variable column\n",
        "X = X[:, 1:]\n",
        "print(\"Dummy variable trap avoided. New features shape:\", X.shape)"
      ],
      "metadata": {
        "colab": {
          "base_uri": "https://localhost:8080/"
        },
        "id": "aqMWkFXMNUp-",
        "outputId": "0dabf078-fc9f-4249-bd08-79547c9b9636"
      },
      "execution_count": null,
      "outputs": [
        {
          "output_type": "stream",
          "name": "stdout",
          "text": [
            "Dummy variable trap avoided. New features shape: (50, 4)\n"
          ]
        }
      ]
    },
    {
      "cell_type": "code",
      "source": [
        "# Split train and test sets\n",
        "print(\"Splitting dataset into training and test sets...\")\n",
        "X_train, X_test, Y_train, Y_test = train_test_split(\n",
        "    X, Y, test_size=0.2, random_state=0)\n",
        "print((f\"Training set size: {len(X_train)} samples\\n\"\n",
        "       f\"Test set size: {len(X_test)} samples\"))"
      ],
      "metadata": {
        "colab": {
          "base_uri": "https://localhost:8080/"
        },
        "id": "FBNxS2zcNa8Q",
        "outputId": "8b530750-a19b-4ab1-c93a-3aba88f021cc"
      },
      "execution_count": null,
      "outputs": [
        {
          "output_type": "stream",
          "name": "stdout",
          "text": [
            "Splitting dataset into training and test sets...\n",
            "Training set size: 40 samples\n",
            "Test set size: 10 samples\n"
          ]
        }
      ]
    },
    {
      "cell_type": "code",
      "source": [
        "# Fit Multiple Linear Regression\n",
        "print(\"Fitting Multiple Linear Regression model...\")\n",
        "regressor = LinearRegression()\n",
        "regressor.fit(X_train, Y_train)\n",
        "print(\"Model trained!\")\n",
        "print(\"Coefficients:\", regressor.coef_)\n",
        "print(\"Intercept:\", regressor.intercept_)"
      ],
      "metadata": {
        "colab": {
          "base_uri": "https://localhost:8080/"
        },
        "id": "kB9zjqejNmAN",
        "outputId": "b59c3bd4-0091-4d1b-f315-c3f62836b7e3"
      },
      "execution_count": null,
      "outputs": [
        {
          "output_type": "stream",
          "name": "stdout",
          "text": [
            "Fitting Multiple Linear Regression model...\n",
            "Model trained!\n",
            "Coefficients: [1.05221988e+03 7.74682581e-01 3.18348683e-02 3.57342438e-02]\n",
            "Intercept: 42410.30908342115\n"
          ]
        }
      ]
    },
    {
      "cell_type": "code",
      "source": [
        "# Predict Test Set results\n",
        "print(\" Predicting test set results...\")\n",
        "Y_pred = regressor.predict(X_test)\n",
        "print(\"Actual vs Predicted (first 10 samples):\")\n",
        "for i in range(min(10, len(Y_test))):\n",
        "    print(f\"Actual: {Y_test[i]:.0f}, Predicted: {Y_pred[i]:.0f}, Diff: {abs(Y_test[i] - Y_pred[i]):.0f}\")"
      ],
      "metadata": {
        "colab": {
          "base_uri": "https://localhost:8080/"
        },
        "id": "scurzQGLN11i",
        "outputId": "bd7ed352-2399-4375-cec7-3d4bc840d308"
      },
      "execution_count": null,
      "outputs": [
        {
          "output_type": "stream",
          "name": "stdout",
          "text": [
            " Predicting test set results...\n",
            "Actual vs Predicted (first 10 samples):\n",
            "Actual: 103282, Predicted: 103616, Diff: 333\n",
            "Actual: 144259, Predicted: 132246, Diff: 12014\n",
            "Actual: 146122, Predicted: 133070, Diff: 13052\n",
            "Actual: 77799, Predicted: 72592, Diff: 5206\n",
            "Actual: 191050, Predicted: 179076, Diff: 11974\n",
            "Actual: 105008, Predicted: 116014, Diff: 11006\n",
            "Actual: 81229, Predicted: 67854, Diff: 13375\n",
            "Actual: 97484, Predicted: 98837, Diff: 1354\n",
            "Actual: 110352, Predicted: 114480, Diff: 4128\n",
            "Actual: 166188, Predicted: 168493, Diff: 2305\n"
          ]
        }
      ]
    },
    {
      "cell_type": "code",
      "source": [
        "# Backward Elimination for optimal features\n",
        "print(\" Starting Backward Elimination!\")\n",
        "X_with_const = np.append(np.ones((X.shape[0],1)), X, axis=1)  # Add column of ones for intercept\n",
        "selected_cols = list(range(X_with_const.shape[1]))\n",
        "Y_for_ols = Y\n",
        "\n",
        "def backward_elimination(X, Y, significance_level=0.05):\n",
        "    cols = list(range(X.shape[1]))\n",
        "    while True:\n",
        "        regressor_OLS = sm.OLS(Y, X[:, cols]).fit()\n",
        "        p_values = regressor_OLS.pvalues\n",
        "        if p_values.max() > significance_level:\n",
        "            idx_to_remove = p_values.argmax()\n",
        "            print(f\"Dropping column {cols[idx_to_remove]} with p-value {p_values.max():.4f}\")\n",
        "            cols.pop(idx_to_remove)\n",
        "        else:\n",
        "            break\n",
        "    print(\"Optimal columns:\", cols)\n",
        "    print(regressor_OLS.summary())\n",
        "    return cols\n",
        "\n",
        "optimal_cols = backward_elimination(X_with_const, Y_for_ols)\n",
        "\n",
        "X_optimal = X_with_const[:, optimal_cols]"
      ],
      "metadata": {
        "colab": {
          "base_uri": "https://localhost:8080/"
        },
        "id": "u9Ijib7dN-Lq",
        "outputId": "5c00a04b-2cdb-4433-d48a-523d67aa214c"
      },
      "execution_count": null,
      "outputs": [
        {
          "output_type": "stream",
          "name": "stdout",
          "text": [
            " Starting Backward Elimination!\n",
            "Dropping column 1 with p-value 0.9614\n",
            "Dropping column 3 with p-value 0.6018\n",
            "Dropping column 4 with p-value 0.0600\n",
            "Optimal columns: [0, 2]\n",
            "                            OLS Regression Results                            \n",
            "==============================================================================\n",
            "Dep. Variable:                      y   R-squared:                       0.947\n",
            "Model:                            OLS   Adj. R-squared:                  0.945\n",
            "Method:                 Least Squares   F-statistic:                     849.8\n",
            "Date:                Mon, 25 Aug 2025   Prob (F-statistic):           3.50e-32\n",
            "Time:                        07:55:42   Log-Likelihood:                -527.44\n",
            "No. Observations:                  50   AIC:                             1059.\n",
            "Df Residuals:                      48   BIC:                             1063.\n",
            "Df Model:                           1                                         \n",
            "Covariance Type:            nonrobust                                         \n",
            "==============================================================================\n",
            "                 coef    std err          t      P>|t|      [0.025      0.975]\n",
            "------------------------------------------------------------------------------\n",
            "const       4.903e+04   2537.897     19.320      0.000    4.39e+04    5.41e+04\n",
            "x1             0.8543      0.029     29.151      0.000       0.795       0.913\n",
            "==============================================================================\n",
            "Omnibus:                       13.727   Durbin-Watson:                   1.116\n",
            "Prob(Omnibus):                  0.001   Jarque-Bera (JB):               18.536\n",
            "Skew:                          -0.911   Prob(JB):                     9.44e-05\n",
            "Kurtosis:                       5.361   Cond. No.                     1.65e+05\n",
            "==============================================================================\n",
            "\n",
            "Notes:\n",
            "[1] Standard Errors assume that the covariance matrix of the errors is correctly specified.\n",
            "[2] The condition number is large, 1.65e+05. This might indicate that there are\n",
            "strong multicollinearity or other numerical problems.\n"
          ]
        }
      ]
    },
    {
      "cell_type": "code",
      "source": [
        "# Train/test split for optimal features\n",
        "print(\" Splitting optimal features for train/test...\")\n",
        "X_optimal_train, X_optimal_test, Y_optimal_train, Y_optimal_test = train_test_split(\n",
        "    X_optimal, Y, test_size=0.2, random_state=0)\n",
        "\n",
        "# Fit and predict with optimal features\n",
        "regressor_opt = LinearRegression()\n",
        "regressor_opt.fit(X_optimal_train, Y_optimal_train)\n",
        "Y_optimal_pred = regressor_opt.predict(X_optimal_test)\n",
        "print(\"First 10 predictions (optimal model):\")\n",
        "for i in range(min(10, len(Y_optimal_test))):\n",
        "    print(f\"Actual: {Y_optimal_test[i]:.0f}, Predicted: {Y_optimal_pred[i]:.0f}, Diff: {abs(Y_optimal_test[i] - Y_optimal_pred[i]):.0f}\")"
      ],
      "metadata": {
        "colab": {
          "base_uri": "https://localhost:8080/"
        },
        "id": "4uUXNZPDOivV",
        "outputId": "e74efbc2-dc9b-4441-c9bc-c53f35dfea9f"
      },
      "execution_count": null,
      "outputs": [
        {
          "output_type": "stream",
          "name": "stdout",
          "text": [
            " Splitting optimal features for train/test...\n",
            "First 10 predictions (optimal model):\n",
            "Actual: 103282, Predicted: 104667, Diff: 1385\n",
            "Actual: 144259, Predicted: 134151, Diff: 10109\n",
            "Actual: 146122, Predicted: 135208, Diff: 10914\n",
            "Actual: 77799, Predicted: 72171, Diff: 5628\n",
            "Actual: 191050, Predicted: 179091, Diff: 11960\n",
            "Actual: 105008, Predicted: 109825, Diff: 4816\n",
            "Actual: 81229, Predicted: 65644, Diff: 15585\n",
            "Actual: 97484, Predicted: 100481, Diff: 2998\n",
            "Actual: 110352, Predicted: 111432, Diff: 1080\n",
            "Actual: 166188, Predicted: 169438, Diff: 3250\n"
          ]
        }
      ]
    }
  ]
}