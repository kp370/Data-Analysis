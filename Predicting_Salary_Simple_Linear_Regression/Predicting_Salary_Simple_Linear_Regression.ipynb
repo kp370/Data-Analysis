{
  "nbformat": 4,
  "nbformat_minor": 0,
  "metadata": {
    "colab": {
      "provenance": []
    },
    "kernelspec": {
      "name": "python3",
      "display_name": "Python 3"
    },
    "language_info": {
      "name": "python"
    }
  },
  "cells": [
    {
      "cell_type": "code",
      "execution_count": null,
      "metadata": {
        "id": "6OPzV7Rj4Xel"
      },
      "outputs": [],
      "source": [
        "# Import required libraries\n",
        "import numpy as np\n",
        "import matplotlib.pyplot as plt\n",
        "import pandas as pd\n",
        "from sklearn.model_selection import train_test_split  # Updated import\n",
        "from sklearn.linear_model import LinearRegression\n",
        "from sklearn.metrics import r2_score, mean_squared_error\n",
        "from google.colab import files\n",
        "import io"
      ]
    },
    {
      "cell_type": "code",
      "source": [
        "print(\"\\nPlease upload your file:\")\n",
        "uploaded = files.upload()"
      ],
      "metadata": {
        "colab": {
          "base_uri": "https://localhost:8080/",
          "height": 109
        },
        "id": "x8lsYOUX4pk6",
        "outputId": "52738411-b351-4166-9754-5ba7f7ebcd7d"
      },
      "execution_count": null,
      "outputs": [
        {
          "output_type": "stream",
          "name": "stdout",
          "text": [
            "\n",
            "Please upload your file:\n"
          ]
        },
        {
          "output_type": "display_data",
          "data": {
            "text/plain": [
              "<IPython.core.display.HTML object>"
            ],
            "text/html": [
              "\n",
              "     <input type=\"file\" id=\"files-759c1de9-3866-43cf-a7e8-3dde8493315d\" name=\"files[]\" multiple disabled\n",
              "        style=\"border:none\" />\n",
              "     <output id=\"result-759c1de9-3866-43cf-a7e8-3dde8493315d\">\n",
              "      Upload widget is only available when the cell has been executed in the\n",
              "      current browser session. Please rerun this cell to enable.\n",
              "      </output>\n",
              "      <script>// Copyright 2017 Google LLC\n",
              "//\n",
              "// Licensed under the Apache License, Version 2.0 (the \"License\");\n",
              "// you may not use this file except in compliance with the License.\n",
              "// You may obtain a copy of the License at\n",
              "//\n",
              "//      http://www.apache.org/licenses/LICENSE-2.0\n",
              "//\n",
              "// Unless required by applicable law or agreed to in writing, software\n",
              "// distributed under the License is distributed on an \"AS IS\" BASIS,\n",
              "// WITHOUT WARRANTIES OR CONDITIONS OF ANY KIND, either express or implied.\n",
              "// See the License for the specific language governing permissions and\n",
              "// limitations under the License.\n",
              "\n",
              "/**\n",
              " * @fileoverview Helpers for google.colab Python module.\n",
              " */\n",
              "(function(scope) {\n",
              "function span(text, styleAttributes = {}) {\n",
              "  const element = document.createElement('span');\n",
              "  element.textContent = text;\n",
              "  for (const key of Object.keys(styleAttributes)) {\n",
              "    element.style[key] = styleAttributes[key];\n",
              "  }\n",
              "  return element;\n",
              "}\n",
              "\n",
              "// Max number of bytes which will be uploaded at a time.\n",
              "const MAX_PAYLOAD_SIZE = 100 * 1024;\n",
              "\n",
              "function _uploadFiles(inputId, outputId) {\n",
              "  const steps = uploadFilesStep(inputId, outputId);\n",
              "  const outputElement = document.getElementById(outputId);\n",
              "  // Cache steps on the outputElement to make it available for the next call\n",
              "  // to uploadFilesContinue from Python.\n",
              "  outputElement.steps = steps;\n",
              "\n",
              "  return _uploadFilesContinue(outputId);\n",
              "}\n",
              "\n",
              "// This is roughly an async generator (not supported in the browser yet),\n",
              "// where there are multiple asynchronous steps and the Python side is going\n",
              "// to poll for completion of each step.\n",
              "// This uses a Promise to block the python side on completion of each step,\n",
              "// then passes the result of the previous step as the input to the next step.\n",
              "function _uploadFilesContinue(outputId) {\n",
              "  const outputElement = document.getElementById(outputId);\n",
              "  const steps = outputElement.steps;\n",
              "\n",
              "  const next = steps.next(outputElement.lastPromiseValue);\n",
              "  return Promise.resolve(next.value.promise).then((value) => {\n",
              "    // Cache the last promise value to make it available to the next\n",
              "    // step of the generator.\n",
              "    outputElement.lastPromiseValue = value;\n",
              "    return next.value.response;\n",
              "  });\n",
              "}\n",
              "\n",
              "/**\n",
              " * Generator function which is called between each async step of the upload\n",
              " * process.\n",
              " * @param {string} inputId Element ID of the input file picker element.\n",
              " * @param {string} outputId Element ID of the output display.\n",
              " * @return {!Iterable<!Object>} Iterable of next steps.\n",
              " */\n",
              "function* uploadFilesStep(inputId, outputId) {\n",
              "  const inputElement = document.getElementById(inputId);\n",
              "  inputElement.disabled = false;\n",
              "\n",
              "  const outputElement = document.getElementById(outputId);\n",
              "  outputElement.innerHTML = '';\n",
              "\n",
              "  const pickedPromise = new Promise((resolve) => {\n",
              "    inputElement.addEventListener('change', (e) => {\n",
              "      resolve(e.target.files);\n",
              "    });\n",
              "  });\n",
              "\n",
              "  const cancel = document.createElement('button');\n",
              "  inputElement.parentElement.appendChild(cancel);\n",
              "  cancel.textContent = 'Cancel upload';\n",
              "  const cancelPromise = new Promise((resolve) => {\n",
              "    cancel.onclick = () => {\n",
              "      resolve(null);\n",
              "    };\n",
              "  });\n",
              "\n",
              "  // Wait for the user to pick the files.\n",
              "  const files = yield {\n",
              "    promise: Promise.race([pickedPromise, cancelPromise]),\n",
              "    response: {\n",
              "      action: 'starting',\n",
              "    }\n",
              "  };\n",
              "\n",
              "  cancel.remove();\n",
              "\n",
              "  // Disable the input element since further picks are not allowed.\n",
              "  inputElement.disabled = true;\n",
              "\n",
              "  if (!files) {\n",
              "    return {\n",
              "      response: {\n",
              "        action: 'complete',\n",
              "      }\n",
              "    };\n",
              "  }\n",
              "\n",
              "  for (const file of files) {\n",
              "    const li = document.createElement('li');\n",
              "    li.append(span(file.name, {fontWeight: 'bold'}));\n",
              "    li.append(span(\n",
              "        `(${file.type || 'n/a'}) - ${file.size} bytes, ` +\n",
              "        `last modified: ${\n",
              "            file.lastModifiedDate ? file.lastModifiedDate.toLocaleDateString() :\n",
              "                                    'n/a'} - `));\n",
              "    const percent = span('0% done');\n",
              "    li.appendChild(percent);\n",
              "\n",
              "    outputElement.appendChild(li);\n",
              "\n",
              "    const fileDataPromise = new Promise((resolve) => {\n",
              "      const reader = new FileReader();\n",
              "      reader.onload = (e) => {\n",
              "        resolve(e.target.result);\n",
              "      };\n",
              "      reader.readAsArrayBuffer(file);\n",
              "    });\n",
              "    // Wait for the data to be ready.\n",
              "    let fileData = yield {\n",
              "      promise: fileDataPromise,\n",
              "      response: {\n",
              "        action: 'continue',\n",
              "      }\n",
              "    };\n",
              "\n",
              "    // Use a chunked sending to avoid message size limits. See b/62115660.\n",
              "    let position = 0;\n",
              "    do {\n",
              "      const length = Math.min(fileData.byteLength - position, MAX_PAYLOAD_SIZE);\n",
              "      const chunk = new Uint8Array(fileData, position, length);\n",
              "      position += length;\n",
              "\n",
              "      const base64 = btoa(String.fromCharCode.apply(null, chunk));\n",
              "      yield {\n",
              "        response: {\n",
              "          action: 'append',\n",
              "          file: file.name,\n",
              "          data: base64,\n",
              "        },\n",
              "      };\n",
              "\n",
              "      let percentDone = fileData.byteLength === 0 ?\n",
              "          100 :\n",
              "          Math.round((position / fileData.byteLength) * 100);\n",
              "      percent.textContent = `${percentDone}% done`;\n",
              "\n",
              "    } while (position < fileData.byteLength);\n",
              "  }\n",
              "\n",
              "  // All done.\n",
              "  yield {\n",
              "    response: {\n",
              "      action: 'complete',\n",
              "    }\n",
              "  };\n",
              "}\n",
              "\n",
              "scope.google = scope.google || {};\n",
              "scope.google.colab = scope.google.colab || {};\n",
              "scope.google.colab._files = {\n",
              "  _uploadFiles,\n",
              "  _uploadFilesContinue,\n",
              "};\n",
              "})(self);\n",
              "</script> "
            ]
          },
          "metadata": {}
        },
        {
          "output_type": "stream",
          "name": "stdout",
          "text": [
            "Saving Salary_Data.csv to Salary_Data (1).csv\n"
          ]
        }
      ]
    },
    {
      "cell_type": "code",
      "source": [
        "filename = list(uploaded.keys())[0]\n",
        "dataset = pd.read_csv(io.BytesIO(uploaded[filename]))\n",
        "print(\"Columns\")\n",
        "print(dataset.columns.tolist())"
      ],
      "metadata": {
        "colab": {
          "base_uri": "https://localhost:8080/"
        },
        "id": "Td5gtIBJ5ArB",
        "outputId": "1925cdc6-b45d-46a0-ff0c-8225aaf38756"
      },
      "execution_count": null,
      "outputs": [
        {
          "output_type": "stream",
          "name": "stdout",
          "text": [
            "Columns\n",
            "['YearsExperience', 'Salary']\n"
          ]
        }
      ]
    },
    {
      "cell_type": "code",
      "source": [
        "# Extract features (X) and target variable (y)\n",
        "# Assuming first column is features (Years of Experience) and second column is target (Salary)\n",
        "X = dataset.iloc[:, :-1].values  # All rows, all columns except last\n",
        "y = dataset.iloc[:, -1].values   # All rows, last column only\n",
        "\n",
        "print(f\"Features shape (X): {X.shape}\")\n",
        "print(f\"Target shape (y): {y.shape}\")\n",
        "print(f\"Sample X values: {X[:5].flatten()}\")\n",
        "print(f\"Sample y values: {y[:5]}\")"
      ],
      "metadata": {
        "colab": {
          "base_uri": "https://localhost:8080/"
        },
        "id": "KKKwDHnM5uKf",
        "outputId": "66f124ab-4d8a-4be3-bbbb-bcf2393f1c54"
      },
      "execution_count": null,
      "outputs": [
        {
          "output_type": "stream",
          "name": "stdout",
          "text": [
            "Features shape (X): (30, 1)\n",
            "Target shape (y): (30,)\n",
            "Sample X values: [1.1 1.3 1.5 2.  2.2]\n",
            "Sample y values: [39343. 46205. 37731. 43525. 39891.]\n"
          ]
        }
      ]
    },
    {
      "cell_type": "code",
      "source": [
        "# Split the dataset into training and test sets\n",
        "print(\"\\n Splitting dataset into training and test sets...\")\n",
        "\n",
        "X_train, X_test, y_train, y_test = train_test_split(\n",
        "    X, y,\n",
        "    test_size=0.3,  # 30% for testing, 70% for training\n",
        "    random_state=0  # For reproducible results\n",
        ")\n",
        "\n",
        "print(f\"Training set size: {len(X_train)} samples\")\n",
        "print(f\"Test set size: {len(X_test)} samples\")"
      ],
      "metadata": {
        "colab": {
          "base_uri": "https://localhost:8080/"
        },
        "id": "MZkHwPTj59vZ",
        "outputId": "32beb351-bf78-4b56-ae4b-ca300566a025"
      },
      "execution_count": null,
      "outputs": [
        {
          "output_type": "stream",
          "name": "stdout",
          "text": [
            "\n",
            " Splitting dataset into training and test sets...\n",
            "Training set size: 21 samples\n",
            "Test set size: 9 samples\n"
          ]
        }
      ]
    },
    {
      "cell_type": "code",
      "source": [
        "# Create and train the Linear Regression model\n",
        "print(\"\\nTraining the Linear Regression model...\")\n",
        "\n",
        "# Create the model\n",
        "regressor = LinearRegression()\n",
        "\n",
        "# Train the model\n",
        "regressor.fit(X_train, y_train)\n",
        "\n",
        "print(\"Model training completed!\")\n",
        "print(f\"Model coefficient (slope): {regressor.coef_[0]:.2f}\")\n",
        "print(f\"Model intercept: {regressor.intercept_:.2f}\")"
      ],
      "metadata": {
        "colab": {
          "base_uri": "https://localhost:8080/"
        },
        "id": "V5ktt3A66ISa",
        "outputId": "af612f3a-48d6-4ce0-8047-93f1ec6a6b68"
      },
      "execution_count": null,
      "outputs": [
        {
          "output_type": "stream",
          "name": "stdout",
          "text": [
            "\n",
            "Training the Linear Regression model...\n",
            "Model training completed!\n",
            "Model coefficient (slope): 9360.26\n",
            "Model intercept: 26777.39\n"
          ]
        }
      ]
    },
    {
      "cell_type": "code",
      "source": [
        "# Make predictions\n",
        "print(\"\\n Making predictions...\")\n",
        "\n",
        "# Predict on test set\n",
        "y_pred = regressor.predict(X_test)\n",
        "\n",
        "print(\"Predictions vs Actual (first 10 samples):\")\n",
        "for i in range(min(10, len(y_test))):\n",
        "    print(f\"Actual: {y_test[i]:.0f}, Predicted: {y_pred[i]:.0f}, Difference: {abs(y_test[i] - y_pred[i]):.0f}\")"
      ],
      "metadata": {
        "colab": {
          "base_uri": "https://localhost:8080/"
        },
        "id": "HVny-Rdd6TrV",
        "outputId": "7ce79c98-a723-405b-e73c-06c4acdae045"
      },
      "execution_count": null,
      "outputs": [
        {
          "output_type": "stream",
          "name": "stdout",
          "text": [
            "\n",
            " Making predictions...\n",
            "Predictions vs Actual (first 10 samples):\n",
            "Actual: 37731, Predicted: 40818, Difference: 3087\n",
            "Actual: 122391, Predicted: 123188, Difference: 797\n",
            "Actual: 57081, Predicted: 65154, Difference: 8073\n",
            "Actual: 63218, Predicted: 63282, Difference: 64\n",
            "Actual: 116969, Predicted: 115700, Difference: 1269\n",
            "Actual: 109431, Predicted: 108212, Difference: 1219\n",
            "Actual: 112635, Predicted: 116636, Difference: 4001\n",
            "Actual: 55794, Predicted: 64218, Difference: 8424\n",
            "Actual: 83088, Predicted: 76387, Difference: 6701\n"
          ]
        }
      ]
    },
    {
      "cell_type": "code",
      "source": [
        "# Evaluate the model\n",
        "print(\"\\n Model Evaluation:\")\n",
        "\n",
        "# Calculate R² score\n",
        "r2 = r2_score(y_test, y_pred)\n",
        "print(f\"R² Score: {r2:.4f}\")\n",
        "\n",
        "# Calculate Mean Squared Error\n",
        "mse = mean_squared_error(y_test, y_pred)\n",
        "rmse = np.sqrt(mse)\n",
        "print(f\"Root Mean Squared Error: {rmse:.2f}\")"
      ],
      "metadata": {
        "colab": {
          "base_uri": "https://localhost:8080/"
        },
        "id": "8IGrEa-m6cS5",
        "outputId": "6bc13b56-ca6c-4ec0-f762-fd55a9688be7"
      },
      "execution_count": null,
      "outputs": [
        {
          "output_type": "stream",
          "name": "stdout",
          "text": [
            "\n",
            " Model Evaluation:\n",
            "R² Score: 0.9741\n",
            "Root Mean Squared Error: 4834.26\n"
          ]
        }
      ]
    },
    {
      "cell_type": "code",
      "source": [
        "# Visualize the results\n",
        "print(\"\\n Creating visualizations...\")\n",
        "\n",
        "# Set up the plotting style\n",
        "plt.style.use('default')\n",
        "fig, (ax1, ax2) = plt.subplots(1, 2, figsize=(15, 6))\n",
        "\n",
        "# Plot 1: Training set results\n",
        "ax1.scatter(X_train, y_train, color='red', alpha=0.7, label='Actual')\n",
        "ax1.plot(X_train, regressor.predict(X_train), color='blue', linewidth=2, label='Regression Line')\n",
        "ax1.set_title('Salary vs Experience (Training Set)', fontsize=14, fontweight='bold')\n",
        "ax1.set_xlabel('Years of Experience', fontsize=12)\n",
        "ax1.set_ylabel('Salary', fontsize=12)\n",
        "ax1.legend()\n",
        "ax1.grid(True, alpha=0.3)\n",
        "\n",
        "# Plot 2: Test set results\n",
        "ax2.scatter(X_test, y_test, color='red', alpha=0.7, label='Actual')\n",
        "# Use sorted training data for smooth line\n",
        "X_train_sorted = np.sort(X_train.flatten())\n",
        "y_train_pred_sorted = regressor.predict(X_train_sorted.reshape(-1, 1))\n",
        "ax2.plot(X_train_sorted, y_train_pred_sorted, color='blue', linewidth=2, label='Regression Line')\n",
        "ax2.set_title('Salary vs Experience (Test Set)', fontsize=14, fontweight='bold')\n",
        "ax2.set_xlabel('Years of Experience', fontsize=12)\n",
        "ax2.set_ylabel('Salary', fontsize=12)\n",
        "ax2.legend()\n",
        "ax2.grid(True, alpha=0.3)\n",
        "\n",
        "plt.tight_layout()\n",
        "plt.show()"
      ],
      "metadata": {
        "colab": {
          "base_uri": "https://localhost:8080/",
          "height": 586
        },
        "id": "bZdbtD_I6icp",
        "outputId": "ed13bcfb-428c-47e8-f964-768703cc4b64"
      },
      "execution_count": null,
      "outputs": [
        {
          "output_type": "stream",
          "name": "stdout",
          "text": [
            "\n",
            " Creating visualizations...\n"
          ]
        },
        {
          "output_type": "display_data",
          "data": {
            "text/plain": [
              "<Figure size 1500x600 with 2 Axes>"
            ],
            "image/png": "[encoded data removed]"
          },
          "metadata": {}
        }
      ]
    },
    {
      "cell_type": "code",
      "source": [
        "# Additional Analysis\n",
        "print(\"\\n🔍 Additional Analysis:\")\n",
        "\n",
        "# Display equation\n",
        "print(f\"\\nLinear Regression Equation:\")\n",
        "print(f\"Salary = {regressor.coef_[0]:.2f} × Experience + {regressor.intercept_:.2f}\")\n",
        "\n",
        "# Prediction example\n",
        "print(\"\\n💡 Example Prediction:\")\n",
        "example_experience = 5.0\n",
        "example_prediction = regressor.predict([[example_experience]])\n",
        "print(f\"For {example_experience} years of experience, predicted salary: ${example_prediction[0]:.0f}\")"
      ],
      "metadata": {
        "colab": {
          "base_uri": "https://localhost:8080/"
        },
        "id": "G70piarz6u4N",
        "outputId": "9a7efbde-ecd5-4277-bd68-cdff6f8bcd23"
      },
      "execution_count": null,
      "outputs": [
        {
          "output_type": "stream",
          "name": "stdout",
          "text": [
            "\n",
            "🔍 Additional Analysis:\n",
            "\n",
            "Linear Regression Equation:\n",
            "Salary = 9360.26 × Experience + 26777.39\n",
            "\n",
            "💡 Example Prediction:\n",
            "For 5.0 years of experience, predicted salary: $73579\n"
          ]
        }
      ]
    },
    {
      "cell_type": "code",
      "source": [
        "# Final Output\n",
        "print(\"\\n Final Ouptut \")\n",
        "print(f\"\\nLinear Regression Equation:\")\n",
        "print(f\"Salary = {regressor.coef_[0]:.2f} × Experience + {regressor.intercept_:.2f}\")\n",
        "print(f\"R² Score: {r2:.4f}\")\n",
        "print(f\"Root Mean Squared Error: {rmse:.2f}\")"
      ],
      "metadata": {
        "colab": {
          "base_uri": "https://localhost:8080/"
        },
        "id": "Fd-jdA7B9REW",
        "outputId": "a8ea2001-64b7-49b0-bade-5ac6cfcdc9c0"
      },
      "execution_count": null,
      "outputs": [
        {
          "output_type": "stream",
          "name": "stdout",
          "text": [
            "\n",
            " Final Ouptut \n",
            "\n",
            "Linear Regression Equation:\n",
            "Salary = 9360.26 × Experience + 26777.39\n",
            "R² Score: 0.9741\n",
            "Root Mean Squared Error: 4834.26\n"
          ]
        }
      ]
    }
  ]
}